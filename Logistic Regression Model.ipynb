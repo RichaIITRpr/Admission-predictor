{
 "cells": [
  {
   "cell_type": "markdown",
   "id": "39980c99",
   "metadata": {},
   "source": [
    "# Loading data"
   ]
  },
  {
   "cell_type": "code",
   "execution_count": 379,
   "id": "47cafe04",
   "metadata": {},
   "outputs": [],
   "source": [
    "import numpy as np\n",
    "import matplotlib.pyplot as plt\n",
    "import pandas as pd"
   ]
  },
  {
   "cell_type": "code",
   "execution_count": 380,
   "id": "eedce369",
   "metadata": {},
   "outputs": [],
   "source": [
    "df=pd.read_csv(\"data1.txt\",header=None)\n",
    "X=df.iloc[:,:-1].values\n",
    "Y=df.iloc[:,-1].values"
   ]
  },
  {
   "cell_type": "code",
   "execution_count": 404,
   "id": "87c032ad",
   "metadata": {},
   "outputs": [
    {
     "data": {
      "text/html": [
       "<div>\n",
       "<style scoped>\n",
       "    .dataframe tbody tr th:only-of-type {\n",
       "        vertical-align: middle;\n",
       "    }\n",
       "\n",
       "    .dataframe tbody tr th {\n",
       "        vertical-align: top;\n",
       "    }\n",
       "\n",
       "    .dataframe thead th {\n",
       "        text-align: right;\n",
       "    }\n",
       "</style>\n",
       "<table border=\"1\" class=\"dataframe\">\n",
       "  <thead>\n",
       "    <tr style=\"text-align: right;\">\n",
       "      <th></th>\n",
       "      <th>0</th>\n",
       "      <th>1</th>\n",
       "      <th>2</th>\n",
       "    </tr>\n",
       "  </thead>\n",
       "  <tbody>\n",
       "    <tr>\n",
       "      <th>0</th>\n",
       "      <td>34.623660</td>\n",
       "      <td>78.024693</td>\n",
       "      <td>0</td>\n",
       "    </tr>\n",
       "    <tr>\n",
       "      <th>1</th>\n",
       "      <td>30.286711</td>\n",
       "      <td>43.894998</td>\n",
       "      <td>0</td>\n",
       "    </tr>\n",
       "    <tr>\n",
       "      <th>2</th>\n",
       "      <td>35.847409</td>\n",
       "      <td>72.902198</td>\n",
       "      <td>0</td>\n",
       "    </tr>\n",
       "    <tr>\n",
       "      <th>3</th>\n",
       "      <td>60.182599</td>\n",
       "      <td>86.308552</td>\n",
       "      <td>1</td>\n",
       "    </tr>\n",
       "    <tr>\n",
       "      <th>4</th>\n",
       "      <td>79.032736</td>\n",
       "      <td>75.344376</td>\n",
       "      <td>1</td>\n",
       "    </tr>\n",
       "  </tbody>\n",
       "</table>\n",
       "</div>"
      ],
      "text/plain": [
       "           0          1  2\n",
       "0  34.623660  78.024693  0\n",
       "1  30.286711  43.894998  0\n",
       "2  35.847409  72.902198  0\n",
       "3  60.182599  86.308552  1\n",
       "4  79.032736  75.344376  1"
      ]
     },
     "execution_count": 404,
     "metadata": {},
     "output_type": "execute_result"
    }
   ],
   "source": [
    "df.head()"
   ]
  },
  {
   "cell_type": "markdown",
   "id": "d344c040",
   "metadata": {},
   "source": [
    "In column '2':\n",
    "\n",
    "    '0' rdepresents Not Admitted\n",
    "    '1' rdepresents Admitted"
   ]
  },
  {
   "cell_type": "code",
   "execution_count": 405,
   "id": "549b6532",
   "metadata": {},
   "outputs": [
    {
     "data": {
      "text/html": [
       "<div>\n",
       "<style scoped>\n",
       "    .dataframe tbody tr th:only-of-type {\n",
       "        vertical-align: middle;\n",
       "    }\n",
       "\n",
       "    .dataframe tbody tr th {\n",
       "        vertical-align: top;\n",
       "    }\n",
       "\n",
       "    .dataframe thead th {\n",
       "        text-align: right;\n",
       "    }\n",
       "</style>\n",
       "<table border=\"1\" class=\"dataframe\">\n",
       "  <thead>\n",
       "    <tr style=\"text-align: right;\">\n",
       "      <th></th>\n",
       "      <th>0</th>\n",
       "      <th>1</th>\n",
       "      <th>2</th>\n",
       "    </tr>\n",
       "  </thead>\n",
       "  <tbody>\n",
       "    <tr>\n",
       "      <th>count</th>\n",
       "      <td>100.000000</td>\n",
       "      <td>100.000000</td>\n",
       "      <td>100.000000</td>\n",
       "    </tr>\n",
       "    <tr>\n",
       "      <th>mean</th>\n",
       "      <td>65.644274</td>\n",
       "      <td>66.221998</td>\n",
       "      <td>0.600000</td>\n",
       "    </tr>\n",
       "    <tr>\n",
       "      <th>std</th>\n",
       "      <td>19.458222</td>\n",
       "      <td>18.582783</td>\n",
       "      <td>0.492366</td>\n",
       "    </tr>\n",
       "    <tr>\n",
       "      <th>min</th>\n",
       "      <td>30.058822</td>\n",
       "      <td>30.603263</td>\n",
       "      <td>0.000000</td>\n",
       "    </tr>\n",
       "    <tr>\n",
       "      <th>25%</th>\n",
       "      <td>50.919511</td>\n",
       "      <td>48.179205</td>\n",
       "      <td>0.000000</td>\n",
       "    </tr>\n",
       "    <tr>\n",
       "      <th>50%</th>\n",
       "      <td>67.032988</td>\n",
       "      <td>67.682381</td>\n",
       "      <td>1.000000</td>\n",
       "    </tr>\n",
       "    <tr>\n",
       "      <th>75%</th>\n",
       "      <td>80.212529</td>\n",
       "      <td>79.360605</td>\n",
       "      <td>1.000000</td>\n",
       "    </tr>\n",
       "    <tr>\n",
       "      <th>max</th>\n",
       "      <td>99.827858</td>\n",
       "      <td>98.869436</td>\n",
       "      <td>1.000000</td>\n",
       "    </tr>\n",
       "  </tbody>\n",
       "</table>\n",
       "</div>"
      ],
      "text/plain": [
       "                0           1           2\n",
       "count  100.000000  100.000000  100.000000\n",
       "mean    65.644274   66.221998    0.600000\n",
       "std     19.458222   18.582783    0.492366\n",
       "min     30.058822   30.603263    0.000000\n",
       "25%     50.919511   48.179205    0.000000\n",
       "50%     67.032988   67.682381    1.000000\n",
       "75%     80.212529   79.360605    1.000000\n",
       "max     99.827858   98.869436    1.000000"
      ]
     },
     "execution_count": 405,
     "metadata": {},
     "output_type": "execute_result"
    }
   ],
   "source": [
    "df.describe()"
   ]
  },
  {
   "cell_type": "markdown",
   "id": "6e47afb4",
   "metadata": {},
   "source": [
    "# Plotting data"
   ]
  },
  {
   "cell_type": "code",
   "execution_count": 381,
   "id": "fed7caef",
   "metadata": {},
   "outputs": [
    {
     "data": {
      "text/plain": [
       "<matplotlib.legend.Legend at 0x1dd73d1a520>"
      ]
     },
     "execution_count": 381,
     "metadata": {},
     "output_type": "execute_result"
    },
    {
     "data": {
      "image/png": "[encoded data removed]",
      "text/plain": [
       "<Figure size 432x288 with 1 Axes>"
      ]
     },
     "metadata": {
      "needs_background": "light"
     },
     "output_type": "display_data"
    }
   ],
   "source": [
    "pos = (Y==1)\n",
    "neg = (Y==0)\n",
    "\n",
    "plt.scatter(X[pos[:],0],X[pos[:],1],c=\"r\",marker=\"+\")\n",
    "plt.scatter(X[neg,0],X[neg,1],marker=\"o\",s=10)\n",
    "plt.xlabel(\"Exam 1 score\")\n",
    "plt.ylabel(\"Exam 2 score\")\n",
    "plt.legend([\"Admitted\",\"Not admitted\"],loc=0)"
   ]
  },
  {
   "cell_type": "markdown",
   "id": "eca4b174",
   "metadata": {},
   "source": [
    "# Logistic Regression model"
   ]
  },
  {
   "cell_type": "code",
   "execution_count": 382,
   "id": "7a8a055e",
   "metadata": {},
   "outputs": [],
   "source": [
    "x=df.iloc[:,:-1]\n",
    "x.insert(0,'Ones',1)\n",
    "\n",
    "y=df.iloc[:,-1]\n",
    "\n",
    "theta = np.array([0.5]*len(x.columns))"
   ]
  },
  {
   "cell_type": "code",
   "execution_count": 383,
   "id": "b8f05067",
   "metadata": {},
   "outputs": [],
   "source": [
    "# HYPOTHESIS\n",
    "def hypothesis(theta,x):\n",
    "    z = np.sum((x*theta),axis=1)\n",
    "    return 1/(1+np.exp(-(z)))\n",
    "\n",
    "# COST FUNCTION\n",
    "def cost(x, y, theta):\n",
    "    m = len(x)\n",
    "    y1 = hypothesis(theta,x)\n",
    "    return -(1/m)*np.sum(y*np.log(y1) + (1-y)*np.log(1-y1))\n",
    "\n",
    "# GRADIENT DESCENT\n",
    "def gradientDescent(x, y, theta, alpha, iters):\n",
    "    J =[]\n",
    "    m = len(x)\n",
    "    for i in range(0, iters):\n",
    "        h = hypothesis(theta,x)\n",
    "        for j in range(0, len(x.columns)):\n",
    "            theta[j] -= (alpha/m)*np.sum((h-y)*x.iloc[:,j])\n",
    "#             print(theta)\n",
    "        error = cost(x, y, theta)\n",
    "        J.append(error)\n",
    "    return J, theta"
   ]
  },
  {
   "cell_type": "code",
   "execution_count": 388,
   "id": "8422565b",
   "metadata": {},
   "outputs": [
    {
     "name": "stderr",
     "output_type": "stream",
     "text": [
      "C:\\Users\\richa\\anaconda3\\lib\\site-packages\\pandas\\core\\arraylike.py:397: RuntimeWarning: divide by zero encountered in log\n",
      "  result = getattr(ufunc, method)(*inputs, **kwargs)\n",
      "C:\\Users\\richa\\AppData\\Local\\Temp\\ipykernel_8476\\1052024336.py:10: DeprecationWarning: Calling np.sum(generator) is deprecated, and in the future will give a different result. Use np.sum(np.fromiter(generator)) or the python sum builtin instead.\n",
      "  accuracy = np.sum(y[k] == H[k] for k in range(0,len(y)))/len(y)\n"
     ]
    }
   ],
   "source": [
    "def predict(x, y, theta, alpha, iters):\n",
    "    J, th = gradientDescent(x, y, theta, alpha, iters) \n",
    "    H = hypothesis(th, x)\n",
    "    for i in range(0,len(H)):\n",
    "        if H[i]>=0.5:\n",
    "            H[i]=1\n",
    "        else:\n",
    "            H[i]=0\n",
    "    y = list(y)\n",
    "    accuracy = np.sum(y[k] == H[k] for k in range(0,len(y)))/len(y)\n",
    "    return J, accuracy, H"
   ]
  },
  {
   "cell_type": "code",
   "execution_count": null,
   "id": "1316841e",
   "metadata": {},
   "outputs": [],
   "source": [
    "alpha = 0.00137\n",
    "iters = 80000\n",
    "\n",
    "J, ACCURACY, H = predict(x, y, theta, alpha, iters)"
   ]
  },
  {
   "cell_type": "markdown",
   "id": "648bca9b",
   "metadata": {},
   "source": [
    "# Calculating Accuracy "
   ]
  },
  {
   "cell_type": "code",
   "execution_count": 408,
   "id": "91d0b42f",
   "metadata": {},
   "outputs": [
    {
     "name": "stdout",
     "output_type": "stream",
     "text": [
      "Cost (as predicted by the Cost Function)= 0.3717680714163929\n",
      "Accuracy = 92.0 %\n"
     ]
    }
   ],
   "source": [
    "print('Cost (as predicted by the Cost Function)=', J[-1])\n",
    "print('Accuracy =', ACCURACY*100, '%')"
   ]
  },
  {
   "cell_type": "markdown",
   "id": "8e3defca",
   "metadata": {},
   "source": [
    "# Plotting the decision boundary\n",
    "hypothesis(x)>= 0.5 is interpreted as predicting class '1'.\n",
    "\n",
    "The descision boundary is:\n",
    "\n",
    "    theta[0] + theta[1]x2 + theta[2]x3 = 0\n",
    "\n",
    "Since, we plot x2 against x3, the boundary line will be the equation\n",
    "\n",
    "    x3 = -(theta[0] + theta[1]x2) / theta[2]"
   ]
  },
  {
   "cell_type": "code",
   "execution_count": 393,
   "id": "bc7a9bf8",
   "metadata": {},
   "outputs": [
    {
     "data": {
      "text/plain": [
       "[<matplotlib.lines.Line2D at 0x1dd74de8940>]"
      ]
     },
     "execution_count": 393,
     "metadata": {},
     "output_type": "execute_result"
    },
    {
     "data": {
      "image/png": "[encoded data removed]",
      "text/plain": [
       "<Figure size 432x288 with 1 Axes>"
      ]
     },
     "metadata": {
      "needs_background": "light"
     },
     "output_type": "display_data"
    }
   ],
   "source": [
    "x2 = np.array([np.min(X[:,1]),np.max(X[:,1])])\n",
    "x3 = -(theta[0] +theta[1]*x2)/theta[2]\n",
    "\n",
    "plt.scatter( X[pos[:],0], X[pos[:],1], c=\"r\", marker=\"+\")\n",
    "plt.scatter(X[neg,0], X[neg,1], marker=\"o\", s=10)\n",
    "plt.xlabel(\"Exam 1 score\")\n",
    "plt.ylabel(\"Exam 2 score\")\n",
    "plt.legend([\"Admitted\",\"Not admitted\"],loc=0)\n",
    "plt.plot(x2, x3, 'g')"
   ]
  },
  {
   "cell_type": "markdown",
   "id": "314280e2",
   "metadata": {},
   "source": [
    "# Predictions"
   ]
  },
  {
   "cell_type": "code",
   "execution_count": 390,
   "id": "7ee19264",
   "metadata": {},
   "outputs": [
    {
     "data": {
      "text/plain": [
       "0     0.0\n",
       "1     0.0\n",
       "2     0.0\n",
       "3     1.0\n",
       "4     1.0\n",
       "     ... \n",
       "95    1.0\n",
       "96    1.0\n",
       "97    1.0\n",
       "98    1.0\n",
       "99    1.0\n",
       "Length: 100, dtype: float64"
      ]
     },
     "execution_count": 390,
     "metadata": {},
     "output_type": "execute_result"
    }
   ],
   "source": [
    "# Model's Prediction\n",
    "H"
   ]
  }
 ],
 "metadata": {
  "kernelspec": {
   "display_name": "Python 3 (ipykernel)",
   "language": "python",
   "name": "python3"
  },
  "language_info": {
   "codemirror_mode": {
    "name": "ipython",
    "version": 3
   },
   "file_extension": ".py",
   "mimetype": "text/x-python",
   "name": "python",
   "nbconvert_exporter": "python",
   "pygments_lexer": "ipython3",
   "version": "3.9.12"
  }
 },
 "nbformat": 4,
 "nbformat_minor": 5
}
